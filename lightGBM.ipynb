{
 "cells": [
  {
   "cell_type": "markdown",
   "metadata": {},
   "source": [
    "# Use LightGBM to do predictions in LightBBB dataset and compare with GNN"
   ]
  },
  {
   "cell_type": "markdown",
   "metadata": {},
   "source": [
    "## Import packages and configs"
   ]
  },
  {
   "cell_type": "code",
   "execution_count": 2,
   "metadata": {},
   "outputs": [],
   "source": [
    "import os\n",
    "\n",
    "import pandas as pd\n",
    "import numpy as np\n",
    "from tqdm.notebook import tqdm\n",
    "import lightgbm as lgb\n",
    "from sklearn.metrics import (\n",
    "    roc_auc_score, \n",
    "    average_precision_score, \n",
    "    recall_score, \n",
    "    precision_score, \n",
    "    f1_score, \n",
    "    accuracy_score\n",
    ")\n",
    "from rdkit.Chem import rdDepictor\n",
    "from rdkit.Chem.Draw import rdMolDraw2D\n",
    "from rdkit import RDLogger\n",
    "\n",
    "from splitters import scaffold_split_from_smiles"
   ]
  },
  {
   "cell_type": "code",
   "execution_count": 3,
   "metadata": {},
   "outputs": [],
   "source": [
    "RDLogger.DisableLog(\"rdApp.*\")"
   ]
  },
  {
   "cell_type": "markdown",
   "metadata": {},
   "source": [
    "## Readin training dataset\n",
    "Files in LightBBB dataset:\n",
    "* y_test_indices.csv: contains 7162 BBB compound SMILES and permeability of each compound is in binary values (0 for non-permeable and 1 for permeable)\n",
    "* datasetNormalizedDescrs.csv: contains 1119 2D molecular descriptors of 7162 compounds retrieved from Dragon software.\n",
    "* y_indices_external.csv: contains 74 compound SMILIES and their permeability class in 0 and 1.    \n",
    "* external_dataset.csv: contains 2D molecular descriptors of 74 compounds.  \n",
    "\n",
    "\n",
    "Dataset files y_test_indices.csv and datasetNormalizedDescrs.csv used in model training while data in y_indices_external.csv and external_dataset.csv used for external test dataset model validation."
   ]
  },
  {
   "cell_type": "code",
   "execution_count": 4,
   "metadata": {},
   "outputs": [],
   "source": [
    "ds = pd.read_csv(\"dataset/lightbbb/raw/y_test_indices.csv\")\n",
    "descriptors = pd.read_csv(\"dataset/lightbbb/raw/datasetNormalizedDescrs.csv\", index_col=0)\n",
    "test_ds = pd.read_csv(\"dataset/lightbbb/raw/y_indices_external.csv\")\n",
    "test_des = pd.read_csv(\"dataset/lightbbb/raw/external_dataset.csv\", index_col=0)"
   ]
  },
  {
   "cell_type": "markdown",
   "metadata": {},
   "source": [
    "## Scaffold splitting using the method from Hu's work (ContextPred)"
   ]
  },
  {
   "cell_type": "code",
   "execution_count": 4,
   "metadata": {},
   "outputs": [],
   "source": [
    "train_idx, val_idx, _ = scaffold_split_from_smiles(\n",
    "    ds[\"smiles\"],\n",
    "    frac_train=0.9,\n",
    "    frac_valid=0.1,\n",
    "    frac_test=0\n",
    ")"
   ]
  },
  {
   "cell_type": "markdown",
   "metadata": {},
   "source": [
    "## Initialize LightGBM Dataset objects and setup parameters for training"
   ]
  },
  {
   "cell_type": "code",
   "execution_count": 7,
   "metadata": {},
   "outputs": [],
   "source": [
    "training_data = lgb.Dataset(descriptors.iloc[train_idx].to_numpy(), label=ds.iloc[train_idx][\"BBclass\"])\n",
    "validation_data = lgb.Dataset(descriptors.iloc[val_idx].to_numpy(), label=ds.iloc[val_idx][\"BBclass\"])\n",
    "param = {'num_leaves': 31, 'objective': 'binary'}\n",
    "param['metric'] = ['auc', 'average_precision']\n",
    "num_round = 100"
   ]
  },
  {
   "cell_type": "markdown",
   "metadata": {},
   "source": [
    "## Training"
   ]
  },
  {
   "cell_type": "code",
   "execution_count": 8,
   "metadata": {},
   "outputs": [
    {
     "name": "stdout",
     "output_type": "stream",
     "text": [
      "[LightGBM] [Info] Number of positive: 5045, number of negative: 1381\n",
      "[LightGBM] [Warning] Auto-choosing col-wise multi-threading, the overhead of testing was 0.031848 seconds.\n",
      "You can set `force_col_wise=true` to remove the overhead.\n",
      "[LightGBM] [Info] Total Bins 53610\n",
      "[LightGBM] [Info] Number of data points in the train set: 6426, number of used features: 912\n",
      "[LightGBM] [Info] [binary:BoostFromScore]: pavg=0.785092 -> initscore=1.295590\n",
      "[LightGBM] [Info] Start training from score 1.295590\n",
      "[1]\tvalid_0's auc: 0.840985\tvalid_0's average_precision: 0.820778\n",
      "[2]\tvalid_0's auc: 0.859371\tvalid_0's average_precision: 0.850939\n",
      "[3]\tvalid_0's auc: 0.866919\tvalid_0's average_precision: 0.869303\n",
      "[4]\tvalid_0's auc: 0.865688\tvalid_0's average_precision: 0.866429\n",
      "[5]\tvalid_0's auc: 0.865609\tvalid_0's average_precision: 0.864926\n",
      "[6]\tvalid_0's auc: 0.862733\tvalid_0's average_precision: 0.850941\n",
      "[7]\tvalid_0's auc: 0.865815\tvalid_0's average_precision: 0.860234\n",
      "[8]\tvalid_0's auc: 0.867243\tvalid_0's average_precision: 0.864235\n",
      "[9]\tvalid_0's auc: 0.872006\tvalid_0's average_precision: 0.875532\n",
      "[10]\tvalid_0's auc: 0.874778\tvalid_0's average_precision: 0.881817\n",
      "[11]\tvalid_0's auc: 0.876998\tvalid_0's average_precision: 0.887336\n",
      "[12]\tvalid_0's auc: 0.875044\tvalid_0's average_precision: 0.8837\n",
      "[13]\tvalid_0's auc: 0.876246\tvalid_0's average_precision: 0.884439\n",
      "[14]\tvalid_0's auc: 0.876072\tvalid_0's average_precision: 0.883464\n",
      "[15]\tvalid_0's auc: 0.877571\tvalid_0's average_precision: 0.879576\n",
      "[16]\tvalid_0's auc: 0.878149\tvalid_0's average_precision: 0.879176\n",
      "[17]\tvalid_0's auc: 0.878006\tvalid_0's average_precision: 0.877748\n",
      "[18]\tvalid_0's auc: 0.878018\tvalid_0's average_precision: 0.879318\n",
      "[19]\tvalid_0's auc: 0.879197\tvalid_0's average_precision: 0.881476\n",
      "[20]\tvalid_0's auc: 0.879375\tvalid_0's average_precision: 0.882122\n",
      "[21]\tvalid_0's auc: 0.881274\tvalid_0's average_precision: 0.886949\n",
      "[22]\tvalid_0's auc: 0.881297\tvalid_0's average_precision: 0.888789\n",
      "[23]\tvalid_0's auc: 0.88193\tvalid_0's average_precision: 0.888243\n",
      "[24]\tvalid_0's auc: 0.883022\tvalid_0's average_precision: 0.890414\n",
      "[25]\tvalid_0's auc: 0.882413\tvalid_0's average_precision: 0.890676\n",
      "[26]\tvalid_0's auc: 0.883157\tvalid_0's average_precision: 0.893085\n",
      "[27]\tvalid_0's auc: 0.8836\tvalid_0's average_precision: 0.894166\n",
      "[28]\tvalid_0's auc: 0.883675\tvalid_0's average_precision: 0.893008\n",
      "[29]\tvalid_0's auc: 0.884422\tvalid_0's average_precision: 0.89631\n",
      "[30]\tvalid_0's auc: 0.884684\tvalid_0's average_precision: 0.896324\n",
      "[31]\tvalid_0's auc: 0.884699\tvalid_0's average_precision: 0.89536\n",
      "[32]\tvalid_0's auc: 0.884593\tvalid_0's average_precision: 0.896411\n",
      "[33]\tvalid_0's auc: 0.885273\tvalid_0's average_precision: 0.897623\n",
      "[34]\tvalid_0's auc: 0.885162\tvalid_0's average_precision: 0.898096\n",
      "[35]\tvalid_0's auc: 0.884731\tvalid_0's average_precision: 0.897482\n",
      "[36]\tvalid_0's auc: 0.885601\tvalid_0's average_precision: 0.898381\n",
      "[37]\tvalid_0's auc: 0.884699\tvalid_0's average_precision: 0.897309\n",
      "[38]\tvalid_0's auc: 0.884652\tvalid_0's average_precision: 0.898088\n",
      "[39]\tvalid_0's auc: 0.885016\tvalid_0's average_precision: 0.898517\n",
      "[40]\tvalid_0's auc: 0.885411\tvalid_0's average_precision: 0.898734\n",
      "[41]\tvalid_0's auc: 0.885633\tvalid_0's average_precision: 0.899286\n",
      "[42]\tvalid_0's auc: 0.885522\tvalid_0's average_precision: 0.899258\n",
      "[43]\tvalid_0's auc: 0.885902\tvalid_0's average_precision: 0.899783\n",
      "[44]\tvalid_0's auc: 0.88591\tvalid_0's average_precision: 0.89994\n",
      "[45]\tvalid_0's auc: 0.886487\tvalid_0's average_precision: 0.899935\n",
      "[46]\tvalid_0's auc: 0.886851\tvalid_0's average_precision: 0.900539\n",
      "[47]\tvalid_0's auc: 0.88678\tvalid_0's average_precision: 0.900735\n",
      "[48]\tvalid_0's auc: 0.886448\tvalid_0's average_precision: 0.900055\n",
      "[49]\tvalid_0's auc: 0.885997\tvalid_0's average_precision: 0.89993\n",
      "[50]\tvalid_0's auc: 0.885403\tvalid_0's average_precision: 0.899938\n",
      "[51]\tvalid_0's auc: 0.886828\tvalid_0's average_precision: 0.901515\n",
      "[52]\tvalid_0's auc: 0.886503\tvalid_0's average_precision: 0.900862\n",
      "[53]\tvalid_0's auc: 0.886559\tvalid_0's average_precision: 0.90114\n",
      "[54]\tvalid_0's auc: 0.88591\tvalid_0's average_precision: 0.899857\n",
      "[55]\tvalid_0's auc: 0.88572\tvalid_0's average_precision: 0.899619\n",
      "[56]\tvalid_0's auc: 0.88568\tvalid_0's average_precision: 0.899646\n",
      "[57]\tvalid_0's auc: 0.885158\tvalid_0's average_precision: 0.898972\n",
      "[58]\tvalid_0's auc: 0.885237\tvalid_0's average_precision: 0.899152\n",
      "[59]\tvalid_0's auc: 0.885657\tvalid_0's average_precision: 0.899459\n",
      "[60]\tvalid_0's auc: 0.885269\tvalid_0's average_precision: 0.899085\n",
      "[61]\tvalid_0's auc: 0.885103\tvalid_0's average_precision: 0.898703\n",
      "[62]\tvalid_0's auc: 0.885214\tvalid_0's average_precision: 0.898881\n",
      "[63]\tvalid_0's auc: 0.885277\tvalid_0's average_precision: 0.899511\n",
      "[64]\tvalid_0's auc: 0.885593\tvalid_0's average_precision: 0.90002\n",
      "[65]\tvalid_0's auc: 0.885949\tvalid_0's average_precision: 0.900695\n",
      "[66]\tvalid_0's auc: 0.886353\tvalid_0's average_precision: 0.900955\n",
      "[67]\tvalid_0's auc: 0.886416\tvalid_0's average_precision: 0.900697\n",
      "[68]\tvalid_0's auc: 0.886622\tvalid_0's average_precision: 0.900776\n",
      "[69]\tvalid_0's auc: 0.886416\tvalid_0's average_precision: 0.900292\n",
      "[70]\tvalid_0's auc: 0.886313\tvalid_0's average_precision: 0.90007\n",
      "[71]\tvalid_0's auc: 0.886147\tvalid_0's average_precision: 0.899526\n",
      "[72]\tvalid_0's auc: 0.886313\tvalid_0's average_precision: 0.899487\n",
      "[73]\tvalid_0's auc: 0.886369\tvalid_0's average_precision: 0.899992\n",
      "[74]\tvalid_0's auc: 0.887112\tvalid_0's average_precision: 0.900542\n",
      "[75]\tvalid_0's auc: 0.886946\tvalid_0's average_precision: 0.899436\n",
      "[76]\tvalid_0's auc: 0.887065\tvalid_0's average_precision: 0.899838\n",
      "[77]\tvalid_0's auc: 0.886875\tvalid_0's average_precision: 0.900116\n",
      "[78]\tvalid_0's auc: 0.88693\tvalid_0's average_precision: 0.900322\n",
      "[79]\tvalid_0's auc: 0.886938\tvalid_0's average_precision: 0.90038\n",
      "[80]\tvalid_0's auc: 0.886669\tvalid_0's average_precision: 0.900038\n",
      "[81]\tvalid_0's auc: 0.886622\tvalid_0's average_precision: 0.900011\n",
      "[82]\tvalid_0's auc: 0.886384\tvalid_0's average_precision: 0.899619\n",
      "[83]\tvalid_0's auc: 0.886131\tvalid_0's average_precision: 0.899197\n",
      "[84]\tvalid_0's auc: 0.885609\tvalid_0's average_precision: 0.898828\n",
      "[85]\tvalid_0's auc: 0.885475\tvalid_0's average_precision: 0.898655\n",
      "[86]\tvalid_0's auc: 0.885071\tvalid_0's average_precision: 0.89788\n",
      "[87]\tvalid_0's auc: 0.885309\tvalid_0's average_precision: 0.898302\n",
      "[88]\tvalid_0's auc: 0.885609\tvalid_0's average_precision: 0.89888\n",
      "[89]\tvalid_0's auc: 0.885728\tvalid_0's average_precision: 0.89878\n",
      "[90]\tvalid_0's auc: 0.886258\tvalid_0's average_precision: 0.899116\n",
      "[91]\tvalid_0's auc: 0.885854\tvalid_0's average_precision: 0.89871\n",
      "[92]\tvalid_0's auc: 0.885712\tvalid_0's average_precision: 0.897981\n",
      "[93]\tvalid_0's auc: 0.885601\tvalid_0's average_precision: 0.898079\n",
      "[94]\tvalid_0's auc: 0.885585\tvalid_0's average_precision: 0.897954\n",
      "[95]\tvalid_0's auc: 0.885585\tvalid_0's average_precision: 0.898247\n",
      "[96]\tvalid_0's auc: 0.885419\tvalid_0's average_precision: 0.897675\n",
      "[97]\tvalid_0's auc: 0.885293\tvalid_0's average_precision: 0.897616\n",
      "[98]\tvalid_0's auc: 0.885174\tvalid_0's average_precision: 0.896912\n",
      "[99]\tvalid_0's auc: 0.885127\tvalid_0's average_precision: 0.897106\n",
      "[100]\tvalid_0's auc: 0.885032\tvalid_0's average_precision: 0.897124\n"
     ]
    }
   ],
   "source": [
    "bst = lgb.train(param, training_data, num_round, valid_sets=[validation_data])"
   ]
  },
  {
   "cell_type": "code",
   "execution_count": 11,
   "metadata": {},
   "outputs": [],
   "source": [
    "ypred = bst.predict(test_des.to_numpy())\n",
    "ytrue = test_ds[\"BBclass\"].to_numpy()\n",
    "roc = roc_auc_score(ytrue, ypred)\n",
    "ap = average_precision_score(ytrue, ypred)\n",
    "acc = accuracy_score(ytrue, np.round(ypred))\n",
    "precision = precision_score(ytrue, np.round(ypred), average=\"binary\")\n",
    "recall = recall_score(ytrue, np.round(ypred), average=\"binary\")\n",
    "specificity = recall_score(1-ytrue, 1-np.round(ypred), average=\"binary\")\n",
    "f1 = f1_score(ytrue, np.round(ypred), average=\"binary\")"
   ]
  },
  {
   "cell_type": "code",
   "execution_count": 29,
   "metadata": {},
   "outputs": [
    {
     "name": "stdout",
     "output_type": "stream",
     "text": [
      "Testing results:\n",
      "    roc_auc:\t\t0.947253\n",
      "    ap:\t\t\t0.935167\n",
      "    accuracy:\t\t0.918919\n",
      "    precision:\t\t0.902439\n",
      "    recall:\t\t0.948718\n",
      "    specificity:\t0.885714\n",
      "    f1:\t\t\t0.925000\n",
      "\n"
     ]
    }
   ],
   "source": [
    "results = f\"\"\"Testing results:\n",
    "    roc_auc:\\t\\t{roc:.6f}\n",
    "    ap:\\t\\t\\t{ap:.6f}\n",
    "    accuracy:\\t\\t{acc:.6f}\n",
    "    precision:\\t\\t{precision:.6f}\n",
    "    recall:\\t\\t{recall:.6f}\n",
    "    specificity:\\t{specificity:.6f}\n",
    "    f1:\\t\\t\\t{f1:.6f}\n",
    "\"\"\"\n",
    "print(results)"
   ]
  },
  {
   "cell_type": "markdown",
   "metadata": {},
   "source": [
    "## Use scaffold splitting to get testing set"
   ]
  },
  {
   "cell_type": "code",
   "execution_count": 12,
   "metadata": {},
   "outputs": [],
   "source": [
    "train_idx, val_idx, test_idx = scaffold_split_from_smiles(\n",
    "    ds[\"smiles\"],\n",
    "    frac_train=0.8,\n",
    "    frac_valid=0.1,\n",
    "    frac_test=0.1\n",
    ")\n",
    "\n",
    "training_data = lgb.Dataset(descriptors.iloc[train_idx].to_numpy(), label=ds.iloc[train_idx][\"BBclass\"])\n",
    "validation_data = lgb.Dataset(descriptors.iloc[val_idx].to_numpy(), label=ds.iloc[val_idx][\"BBclass\"])\n",
    "testing_data = descriptors.iloc[test_idx].to_numpy()\n",
    "ytrue = ds.iloc[test_idx][\"BBclass\"].to_numpy()\n",
    "\n",
    "rand_seed = 0\n",
    "param = {'num_leaves': 31, 'objective': 'binary'}\n",
    "param['metric'] = ['auc', 'average_precision']\n",
    "param[\"feature_fraction_seed\"] = rand_seed\n",
    "param[\"extra_seed\"] = rand_seed\n",
    "param[\"drop_seed\"] = rand_seed\n",
    "\n",
    "num_round = 100"
   ]
  },
  {
   "cell_type": "code",
   "execution_count": 13,
   "metadata": {},
   "outputs": [
    {
     "name": "stdout",
     "output_type": "stream",
     "text": [
      "[LightGBM] [Info] Number of positive: 4561, number of negative: 1151\n",
      "[LightGBM] [Warning] Auto-choosing col-wise multi-threading, the overhead of testing was 0.032628 seconds.\n",
      "You can set `force_col_wise=true` to remove the overhead.\n",
      "[LightGBM] [Info] Total Bins 52222\n",
      "[LightGBM] [Info] Number of data points in the train set: 5712, number of used features: 895\n",
      "[LightGBM] [Info] [binary:BoostFromScore]: pavg=0.798494 -> initscore=1.376911\n",
      "[LightGBM] [Info] Start training from score 1.376911\n",
      "[1]\tvalid_0's auc: 0.893281\tvalid_0's average_precision: 0.917878\n",
      "[2]\tvalid_0's auc: 0.908651\tvalid_0's average_precision: 0.92715\n",
      "[3]\tvalid_0's auc: 0.913636\tvalid_0's average_precision: 0.933014\n",
      "[4]\tvalid_0's auc: 0.912082\tvalid_0's average_precision: 0.926501\n",
      "[5]\tvalid_0's auc: 0.913587\tvalid_0's average_precision: 0.935842\n",
      "[6]\tvalid_0's auc: 0.914274\tvalid_0's average_precision: 0.937894\n",
      "[7]\tvalid_0's auc: 0.918038\tvalid_0's average_precision: 0.939732\n",
      "[8]\tvalid_0's auc: 0.914162\tvalid_0's average_precision: 0.93253\n",
      "[9]\tvalid_0's auc: 0.914791\tvalid_0's average_precision: 0.937784\n",
      "[10]\tvalid_0's auc: 0.916632\tvalid_0's average_precision: 0.945037\n",
      "[11]\tvalid_0's auc: 0.917553\tvalid_0's average_precision: 0.942673\n",
      "[12]\tvalid_0's auc: 0.919812\tvalid_0's average_precision: 0.945091\n",
      "[13]\tvalid_0's auc: 0.920854\tvalid_0's average_precision: 0.945817\n",
      "[14]\tvalid_0's auc: 0.920616\tvalid_0's average_precision: 0.945074\n",
      "[15]\tvalid_0's auc: 0.920499\tvalid_0's average_precision: 0.944718\n",
      "[16]\tvalid_0's auc: 0.921968\tvalid_0's average_precision: 0.950232\n",
      "[17]\tvalid_0's auc: 0.921609\tvalid_0's average_precision: 0.949967\n",
      "[18]\tvalid_0's auc: 0.921277\tvalid_0's average_precision: 0.951054\n",
      "[19]\tvalid_0's auc: 0.920621\tvalid_0's average_precision: 0.950497\n",
      "[20]\tvalid_0's auc: 0.920827\tvalid_0's average_precision: 0.950615\n",
      "[21]\tvalid_0's auc: 0.923046\tvalid_0's average_precision: 0.951836\n",
      "[22]\tvalid_0's auc: 0.922678\tvalid_0's average_precision: 0.951005\n",
      "[23]\tvalid_0's auc: 0.923289\tvalid_0's average_precision: 0.951671\n",
      "[24]\tvalid_0's auc: 0.924852\tvalid_0's average_precision: 0.953382\n",
      "[25]\tvalid_0's auc: 0.925499\tvalid_0's average_precision: 0.953474\n",
      "[26]\tvalid_0's auc: 0.925651\tvalid_0's average_precision: 0.953292\n",
      "[27]\tvalid_0's auc: 0.926226\tvalid_0's average_precision: 0.953396\n",
      "[28]\tvalid_0's auc: 0.925144\tvalid_0's average_precision: 0.951318\n",
      "[29]\tvalid_0's auc: 0.927138\tvalid_0's average_precision: 0.953576\n",
      "[30]\tvalid_0's auc: 0.927511\tvalid_0's average_precision: 0.953828\n",
      "[31]\tvalid_0's auc: 0.927991\tvalid_0's average_precision: 0.953694\n",
      "[32]\tvalid_0's auc: 0.928454\tvalid_0's average_precision: 0.954309\n",
      "[33]\tvalid_0's auc: 0.928463\tvalid_0's average_precision: 0.953765\n",
      "[34]\tvalid_0's auc: 0.92814\tvalid_0's average_precision: 0.953994\n",
      "[35]\tvalid_0's auc: 0.928706\tvalid_0's average_precision: 0.954368\n",
      "[36]\tvalid_0's auc: 0.929514\tvalid_0's average_precision: 0.955685\n",
      "[37]\tvalid_0's auc: 0.929766\tvalid_0's average_precision: 0.956364\n",
      "[38]\tvalid_0's auc: 0.929586\tvalid_0's average_precision: 0.956066\n",
      "[39]\tvalid_0's auc: 0.93043\tvalid_0's average_precision: 0.957058\n",
      "[40]\tvalid_0's auc: 0.929801\tvalid_0's average_precision: 0.956562\n",
      "[41]\tvalid_0's auc: 0.930017\tvalid_0's average_precision: 0.957279\n",
      "[42]\tvalid_0's auc: 0.930421\tvalid_0's average_precision: 0.958171\n",
      "[43]\tvalid_0's auc: 0.930278\tvalid_0's average_precision: 0.957637\n",
      "[44]\tvalid_0's auc: 0.929882\tvalid_0's average_precision: 0.957053\n",
      "[45]\tvalid_0's auc: 0.930008\tvalid_0's average_precision: 0.956889\n",
      "[46]\tvalid_0's auc: 0.929819\tvalid_0's average_precision: 0.956797\n",
      "[47]\tvalid_0's auc: 0.92981\tvalid_0's average_precision: 0.956947\n",
      "[48]\tvalid_0's auc: 0.929325\tvalid_0's average_precision: 0.956649\n",
      "[49]\tvalid_0's auc: 0.929155\tvalid_0's average_precision: 0.956805\n",
      "[50]\tvalid_0's auc: 0.929271\tvalid_0's average_precision: 0.956835\n",
      "[51]\tvalid_0's auc: 0.929559\tvalid_0's average_precision: 0.957648\n",
      "[52]\tvalid_0's auc: 0.92999\tvalid_0's average_precision: 0.957871\n",
      "[53]\tvalid_0's auc: 0.930331\tvalid_0's average_precision: 0.958443\n",
      "[54]\tvalid_0's auc: 0.93079\tvalid_0's average_precision: 0.958651\n",
      "[55]\tvalid_0's auc: 0.930781\tvalid_0's average_precision: 0.959061\n",
      "[56]\tvalid_0's auc: 0.930888\tvalid_0's average_precision: 0.958942\n",
      "[57]\tvalid_0's auc: 0.930484\tvalid_0's average_precision: 0.959282\n",
      "[58]\tvalid_0's auc: 0.930781\tvalid_0's average_precision: 0.959411\n",
      "[59]\tvalid_0's auc: 0.930799\tvalid_0's average_precision: 0.95959\n",
      "[60]\tvalid_0's auc: 0.931113\tvalid_0's average_precision: 0.959845\n",
      "[61]\tvalid_0's auc: 0.9314\tvalid_0's average_precision: 0.960187\n",
      "[62]\tvalid_0's auc: 0.931212\tvalid_0's average_precision: 0.96006\n",
      "[63]\tvalid_0's auc: 0.931203\tvalid_0's average_precision: 0.960152\n",
      "[64]\tvalid_0's auc: 0.930682\tvalid_0's average_precision: 0.959559\n",
      "[65]\tvalid_0's auc: 0.930421\tvalid_0's average_precision: 0.959449\n",
      "[66]\tvalid_0's auc: 0.93105\tvalid_0's average_precision: 0.959661\n",
      "[67]\tvalid_0's auc: 0.93132\tvalid_0's average_precision: 0.959881\n",
      "[68]\tvalid_0's auc: 0.931553\tvalid_0's average_precision: 0.959908\n",
      "[69]\tvalid_0's auc: 0.931562\tvalid_0's average_precision: 0.960069\n",
      "[70]\tvalid_0's auc: 0.931409\tvalid_0's average_precision: 0.959945\n",
      "[71]\tvalid_0's auc: 0.931643\tvalid_0's average_precision: 0.95997\n",
      "[72]\tvalid_0's auc: 0.931212\tvalid_0's average_precision: 0.959658\n",
      "[73]\tvalid_0's auc: 0.931059\tvalid_0's average_precision: 0.959613\n",
      "[74]\tvalid_0's auc: 0.930852\tvalid_0's average_precision: 0.959526\n",
      "[75]\tvalid_0's auc: 0.930682\tvalid_0's average_precision: 0.959812\n",
      "[76]\tvalid_0's auc: 0.9307\tvalid_0's average_precision: 0.959894\n",
      "[77]\tvalid_0's auc: 0.930269\tvalid_0's average_precision: 0.959484\n",
      "[78]\tvalid_0's auc: 0.930565\tvalid_0's average_precision: 0.95967\n",
      "[79]\tvalid_0's auc: 0.930305\tvalid_0's average_precision: 0.959692\n",
      "[80]\tvalid_0's auc: 0.929415\tvalid_0's average_precision: 0.958476\n",
      "[81]\tvalid_0's auc: 0.929164\tvalid_0's average_precision: 0.958448\n",
      "[82]\tvalid_0's auc: 0.928715\tvalid_0's average_precision: 0.958113\n",
      "[83]\tvalid_0's auc: 0.928777\tvalid_0's average_precision: 0.958163\n",
      "[84]\tvalid_0's auc: 0.929343\tvalid_0's average_precision: 0.958729\n",
      "[85]\tvalid_0's auc: 0.928957\tvalid_0's average_precision: 0.958113\n",
      "[86]\tvalid_0's auc: 0.928957\tvalid_0's average_precision: 0.958034\n",
      "[87]\tvalid_0's auc: 0.928948\tvalid_0's average_precision: 0.957895\n",
      "[88]\tvalid_0's auc: 0.928894\tvalid_0's average_precision: 0.95782\n",
      "[89]\tvalid_0's auc: 0.928903\tvalid_0's average_precision: 0.957813\n",
      "[90]\tvalid_0's auc: 0.928598\tvalid_0's average_precision: 0.957549\n",
      "[91]\tvalid_0's auc: 0.928903\tvalid_0's average_precision: 0.95802\n",
      "[92]\tvalid_0's auc: 0.928732\tvalid_0's average_precision: 0.957886\n",
      "[93]\tvalid_0's auc: 0.928445\tvalid_0's average_precision: 0.957785\n",
      "[94]\tvalid_0's auc: 0.928005\tvalid_0's average_precision: 0.957467\n",
      "[95]\tvalid_0's auc: 0.928373\tvalid_0's average_precision: 0.957781\n",
      "[96]\tvalid_0's auc: 0.928454\tvalid_0's average_precision: 0.957944\n",
      "[97]\tvalid_0's auc: 0.928786\tvalid_0's average_precision: 0.95816\n",
      "[98]\tvalid_0's auc: 0.928589\tvalid_0's average_precision: 0.95795\n",
      "[99]\tvalid_0's auc: 0.928562\tvalid_0's average_precision: 0.957977\n",
      "[100]\tvalid_0's auc: 0.928535\tvalid_0's average_precision: 0.958091\n"
     ]
    }
   ],
   "source": [
    "bst = lgb.train(param, training_data, num_round, valid_sets=[validation_data])"
   ]
  },
  {
   "cell_type": "code",
   "execution_count": 14,
   "metadata": {},
   "outputs": [],
   "source": [
    "ypred = bst.predict(testing_data)\n",
    "\n",
    "roc = roc_auc_score(ytrue, ypred)\n",
    "ap = average_precision_score(ytrue, ypred)\n",
    "acc = accuracy_score(ytrue, np.round(ypred))\n",
    "precision = precision_score(ytrue, np.round(ypred), average=\"binary\")\n",
    "recall = recall_score(ytrue, np.round(ypred), average=\"binary\")\n",
    "specificity = recall_score(1-ytrue, 1-np.round(ypred), average=\"binary\")\n",
    "f1 = f1_score(ytrue, np.round(ypred), average=\"binary\")"
   ]
  },
  {
   "cell_type": "code",
   "execution_count": 15,
   "metadata": {},
   "outputs": [
    {
     "name": "stdout",
     "output_type": "stream",
     "text": [
      "Testing results:\n",
      "    roc_auc:\t\t0.867682\n",
      "    ap:\t\t\t0.876543\n",
      "    accuracy:\t\t0.802797\n",
      "    precision:\t\t0.762397\n",
      "    recall:\t\t0.934177\n",
      "    specificity:\t0.640625\n",
      "    f1:\t\t\t0.839590\n",
      "\n"
     ]
    }
   ],
   "source": [
    "results = f\"\"\"Testing results:\n",
    "    roc_auc:\\t\\t{roc:.6f}\n",
    "    ap:\\t\\t\\t{ap:.6f}\n",
    "    accuracy:\\t\\t{acc:.6f}\n",
    "    precision:\\t\\t{precision:.6f}\n",
    "    recall:\\t\\t{recall:.6f}\n",
    "    specificity:\\t{specificity:.6f}\n",
    "    f1:\\t\\t\\t{f1:.6f}\n",
    "\"\"\"\n",
    "print(results)"
   ]
  },
  {
   "cell_type": "code",
   "execution_count": null,
   "metadata": {},
   "outputs": [],
   "source": []
  }
 ],
 "metadata": {
  "interpreter": {
   "hash": "3074a665a4aac1650e5e08944f21eecc22151925e8dd40acfa0e88ad33b03326"
  },
  "kernelspec": {
   "display_name": "Python 3.7.7 64-bit ('py37': conda)",
   "name": "python3"
  },
  "language_info": {
   "codemirror_mode": {
    "name": "ipython",
    "version": 3
   },
   "file_extension": ".py",
   "mimetype": "text/x-python",
   "name": "python",
   "nbconvert_exporter": "python",
   "pygments_lexer": "ipython3",
   "version": "3.7.7"
  },
  "orig_nbformat": 2
 },
 "nbformat": 4,
 "nbformat_minor": 2
}